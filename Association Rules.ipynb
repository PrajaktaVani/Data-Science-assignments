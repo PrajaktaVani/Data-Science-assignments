{
 "cells": [
  {
   "cell_type": "code",
   "execution_count": 9,
   "id": "abbd2588-4152-4570-a832-d4336397e9ce",
   "metadata": {},
   "outputs": [],
   "source": [
    "import pandas as pd\n",
    "data = pd.read_excel(r\"C:\\Users\\Dell\\Downloads\\Online retail.xlsx\")"
   ]
  },
  {
   "cell_type": "code",
   "execution_count": 11,
   "id": "7f505e9f-1262-4470-a71c-6a1c1137b726",
   "metadata": {},
   "outputs": [],
   "source": [
    "# Convert the data into a list of transactions\n",
    "transactions = [transaction.split(',') for transaction in data]"
   ]
  },
  {
   "cell_type": "code",
   "execution_count": 13,
   "id": "b8a8ab06-fd67-408a-8182-39bbdd56cd32",
   "metadata": {},
   "outputs": [
    {
     "name": "stdout",
     "output_type": "stream",
     "text": [
      "[['shrimp', 'almonds', 'avocado', 'vegetables mix', 'green grapes', 'whole weat flour', 'yams', 'cottage cheese', 'energy drink', 'tomato juice', 'low fat yogurt', 'green tea', 'honey', 'salad', 'mineral water', 'salmon', 'antioxydant juice', 'frozen smoothie', 'spinach', 'olive oil']]\n"
     ]
    }
   ],
   "source": [
    "# Display the first few transactions\n",
    "print(transactions[:5])"
   ]
  },
  {
   "cell_type": "code",
   "execution_count": 15,
   "id": "b88d319c-d59d-49e7-9d5d-68dbaa9797d3",
   "metadata": {},
   "outputs": [],
   "source": [
    "from mlxtend.preprocessing import TransactionEncoder"
   ]
  },
  {
   "cell_type": "code",
   "execution_count": 17,
   "id": "26a3de29-274a-4a09-965a-bc128faa94c0",
   "metadata": {},
   "outputs": [],
   "source": [
    "# Initialize the transaction encoder\n",
    "te = TransactionEncoder()"
   ]
  },
  {
   "cell_type": "code",
   "execution_count": 19,
   "id": "81d1e687-37f0-4c35-9615-4d570abc04b6",
   "metadata": {},
   "outputs": [],
   "source": [
    "# Fit and transform the transactions into an array format\n",
    "te_ary = te.fit(transactions).transform(transactions)"
   ]
  },
  {
   "cell_type": "code",
   "execution_count": 21,
   "id": "0d0ab4be-146f-4f72-945a-0f946d77d76a",
   "metadata": {},
   "outputs": [],
   "source": [
    "# Convert the array into a DataFrame\n",
    "basket = pd.DataFrame(te_ary, columns=te.columns_)"
   ]
  },
  {
   "cell_type": "code",
   "execution_count": 23,
   "id": "1721e1fe-850f-40a3-8cff-7e265db059a3",
   "metadata": {},
   "outputs": [
    {
     "name": "stdout",
     "output_type": "stream",
     "text": [
      "   almonds  antioxydant juice  avocado  cottage cheese  energy drink  \\\n",
      "0     True               True     True            True          True   \n",
      "\n",
      "   frozen smoothie  green grapes  green tea  honey  low fat yogurt  \\\n",
      "0             True          True       True   True            True   \n",
      "\n",
      "   mineral water  olive oil  salad  salmon  shrimp  spinach  tomato juice  \\\n",
      "0           True       True   True    True    True     True          True   \n",
      "\n",
      "   vegetables mix  whole weat flour  yams  \n",
      "0            True              True  True  \n"
     ]
    }
   ],
   "source": [
    "# Display the first few rows of the basket\n",
    "print(basket.head())"
   ]
  },
  {
   "cell_type": "code",
   "execution_count": 80,
   "id": "eebd4d83-4d5a-45ed-8d55-971896734991",
   "metadata": {},
   "outputs": [
    {
     "name": "stderr",
     "output_type": "stream",
     "text": [
      "C:\\Users\\Dell\\anaconda3\\Lib\\site-packages\\openpyxl\\packaging\\core.py:99: DeprecationWarning: datetime.datetime.utcnow() is deprecated and scheduled for removal in a future version. Use timezone-aware objects to represent datetimes in UTC: datetime.datetime.now(datetime.UTC).\n",
      "  now = datetime.datetime.utcnow()\n",
      "C:\\Users\\Dell\\anaconda3\\Lib\\site-packages\\openpyxl\\packaging\\core.py:99: DeprecationWarning: datetime.datetime.utcnow() is deprecated and scheduled for removal in a future version. Use timezone-aware objects to represent datetimes in UTC: datetime.datetime.now(datetime.UTC).\n",
      "  now = datetime.datetime.utcnow()\n"
     ]
    }
   ],
   "source": [
    "import pandas as pd\n",
    "\n",
    "# Load the dataset\n",
    "data = pd.read_excel(r\"C:\\Users\\Dell\\Downloads\\Online retail.xlsx\")"
   ]
  },
  {
   "cell_type": "code",
   "execution_count": 82,
   "id": "21f73fa7-0102-41ba-8dce-681694f403e6",
   "metadata": {},
   "outputs": [],
   "source": [
    "data.dropna(inplace=True)"
   ]
  },
  {
   "cell_type": "code",
   "execution_count": 84,
   "id": "81354ac8-88c3-4176-a324-9f4969baddf4",
   "metadata": {},
   "outputs": [],
   "source": [
    "data.drop_duplicates(inplace=True)"
   ]
  },
  {
   "cell_type": "code",
   "execution_count": 50,
   "id": "3bb12a65-0c12-4215-b09f-a8428ab77418",
   "metadata": {},
   "outputs": [],
   "source": [
    "import pandas as pd\n",
    "\n",
    "# Sample DataFrame creation\n",
    "data = {\n",
    "    'CustomerID': [1, 1, 2, 2],\n",
    "    'Description': ['shrimp', 'almonds', 'avocado', 'vegetables mix']\n",
    "}\n",
    "retail = pd.DataFrame(data)\n",
    "\n",
    "# Grouping items by CustomerID\n",
    "transactions = retail.groupby('CustomerID')['Description'].apply(lambda x: ','.join(x)).reset_index()"
   ]
  },
  {
   "cell_type": "code",
   "execution_count": 56,
   "id": "8ff2f815-b2e6-42c3-ae7d-272503c7cad4",
   "metadata": {},
   "outputs": [
    {
     "name": "stdout",
     "output_type": "stream",
     "text": [
      "Requirement already satisfied: pandas in c:\\users\\dell\\anaconda3\\lib\\site-packages (2.2.2)\n",
      "Requirement already satisfied: mlxtend in c:\\users\\dell\\anaconda3\\lib\\site-packages (0.23.3)\n",
      "Requirement already satisfied: numpy>=1.26.0 in c:\\users\\dell\\anaconda3\\lib\\site-packages (from pandas) (1.26.4)\n",
      "Requirement already satisfied: python-dateutil>=2.8.2 in c:\\users\\dell\\anaconda3\\lib\\site-packages (from pandas) (2.9.0.post0)\n",
      "Requirement already satisfied: pytz>=2020.1 in c:\\users\\dell\\anaconda3\\lib\\site-packages (from pandas) (2024.1)\n",
      "Requirement already satisfied: tzdata>=2022.7 in c:\\users\\dell\\anaconda3\\lib\\site-packages (from pandas) (2023.3)\n",
      "Requirement already satisfied: scipy>=1.2.1 in c:\\users\\dell\\anaconda3\\lib\\site-packages (from mlxtend) (1.13.1)\n",
      "Requirement already satisfied: scikit-learn>=1.3.1 in c:\\users\\dell\\anaconda3\\lib\\site-packages (from mlxtend) (1.4.2)\n",
      "Requirement already satisfied: matplotlib>=3.0.0 in c:\\users\\dell\\anaconda3\\lib\\site-packages (from mlxtend) (3.8.4)\n",
      "Requirement already satisfied: joblib>=0.13.2 in c:\\users\\dell\\anaconda3\\lib\\site-packages (from mlxtend) (1.4.2)\n",
      "Requirement already satisfied: contourpy>=1.0.1 in c:\\users\\dell\\anaconda3\\lib\\site-packages (from matplotlib>=3.0.0->mlxtend) (1.2.0)\n",
      "Requirement already satisfied: cycler>=0.10 in c:\\users\\dell\\anaconda3\\lib\\site-packages (from matplotlib>=3.0.0->mlxtend) (0.11.0)\n",
      "Requirement already satisfied: fonttools>=4.22.0 in c:\\users\\dell\\anaconda3\\lib\\site-packages (from matplotlib>=3.0.0->mlxtend) (4.51.0)\n",
      "Requirement already satisfied: kiwisolver>=1.3.1 in c:\\users\\dell\\anaconda3\\lib\\site-packages (from matplotlib>=3.0.0->mlxtend) (1.4.4)\n",
      "Requirement already satisfied: packaging>=20.0 in c:\\users\\dell\\anaconda3\\lib\\site-packages (from matplotlib>=3.0.0->mlxtend) (23.2)\n",
      "Requirement already satisfied: pillow>=8 in c:\\users\\dell\\anaconda3\\lib\\site-packages (from matplotlib>=3.0.0->mlxtend) (10.3.0)\n",
      "Requirement already satisfied: pyparsing>=2.3.1 in c:\\users\\dell\\anaconda3\\lib\\site-packages (from matplotlib>=3.0.0->mlxtend) (3.0.9)\n",
      "Requirement already satisfied: six>=1.5 in c:\\users\\dell\\anaconda3\\lib\\site-packages (from python-dateutil>=2.8.2->pandas) (1.16.0)\n",
      "Requirement already satisfied: threadpoolctl>=2.0.0 in c:\\users\\dell\\anaconda3\\lib\\site-packages (from scikit-learn>=1.3.1->mlxtend) (2.2.0)\n"
     ]
    },
    {
     "name": "stderr",
     "output_type": "stream",
     "text": [
      "C:\\Users\\Dell\\anaconda3\\Lib\\site-packages\\mlxtend\\frequent_patterns\\fpcommon.py:161: DeprecationWarning: DataFrames with non-bool types result in worse computationalperformance and their support might be discontinued in the future.Please use a DataFrame with bool type\n",
      "  warnings.warn(\n"
     ]
    }
   ],
   "source": [
    "!pip install pandas mlxtend\n",
    "from mlxtend.frequent_patterns import apriori, association_rules\n",
    "\n",
    "# Assuming `transactions` is your DataFrame with transactional data\n",
    "# Create a one-hot encoded DataFrame\n",
    "basket = (transactions['Description']\n",
    "          .str.get_dummies(sep=','))\n",
    "          \n",
    "# Applying Apriori algorithm\n",
    "frequent_itemsets = apriori(basket, min_support=0.01, use_colnames=True)\n",
    "rules = association_rules(frequent_itemsets, metric=\"confidence\", min_threshold=0.5,num_itemsets=1)"
   ]
  },
  {
   "cell_type": "code",
   "execution_count": 58,
   "id": "1b5b349c-2bba-425a-89db-05210329b745",
   "metadata": {},
   "outputs": [
    {
     "name": "stdout",
     "output_type": "stream",
     "text": [
      "        antecedents       consequents  antecedent support  consequent support  \\\n",
      "0          (shrimp)         (almonds)                 0.5                 0.5   \n",
      "1         (almonds)          (shrimp)                 0.5                 0.5   \n",
      "2  (vegetables mix)         (avocado)                 0.5                 0.5   \n",
      "3         (avocado)  (vegetables mix)                 0.5                 0.5   \n",
      "\n",
      "   support  confidence  lift  representativity  leverage  conviction  \\\n",
      "0      0.5         1.0   2.0               1.0      0.25         inf   \n",
      "1      0.5         1.0   2.0               1.0      0.25         inf   \n",
      "2      0.5         1.0   2.0               1.0      0.25         inf   \n",
      "3      0.5         1.0   2.0               1.0      0.25         inf   \n",
      "\n",
      "   zhangs_metric  jaccard  certainty  kulczynski  \n",
      "0            1.0      1.0        1.0         1.0  \n",
      "1            1.0      1.0        1.0         1.0  \n",
      "2            1.0      1.0        1.0         1.0  \n",
      "3            1.0      1.0        1.0         1.0  \n"
     ]
    }
   ],
   "source": [
    "print(rules.head(10))"
   ]
  },
  {
   "cell_type": "code",
   "execution_count": 62,
   "id": "5c10e740-2fe2-4e12-a389-f029187f4c0d",
   "metadata": {},
   "outputs": [
    {
     "name": "stderr",
     "output_type": "stream",
     "text": [
      "C:\\Users\\Dell\\anaconda3\\Lib\\site-packages\\mlxtend\\frequent_patterns\\fpcommon.py:161: DeprecationWarning: DataFrames with non-bool types result in worse computationalperformance and their support might be discontinued in the future.Please use a DataFrame with bool type\n",
      "  warnings.warn(\n"
     ]
    }
   ],
   "source": [
    "from mlxtend.frequent_patterns import apriori, association_rules\n",
    "\n",
    "# Generate frequent itemsets\n",
    "frequent_itemsets = apriori(basket, min_support=0.01, use_colnames=True)\n",
    "\n",
    "# Generate association rules\n",
    "rules = association_rules(frequent_itemsets, metric=\"confidence\", min_threshold=0.5,num_itemsets=1)"
   ]
  },
  {
   "cell_type": "code",
   "execution_count": 66,
   "id": "0a1177a1-160a-4778-ab08-ec89ba75e599",
   "metadata": {},
   "outputs": [
    {
     "name": "stdout",
     "output_type": "stream",
     "text": [
      "Support: 0.01, Confidence: 0.5, Rules Count: 4\n",
      "Support: 0.01, Confidence: 0.6, Rules Count: 4\n",
      "Support: 0.01, Confidence: 0.7, Rules Count: 4\n",
      "Support: 0.02, Confidence: 0.5, Rules Count: 4\n",
      "Support: 0.02, Confidence: 0.6, Rules Count: 4\n",
      "Support: 0.02, Confidence: 0.7, Rules Count: 4\n",
      "Support: 0.03, Confidence: 0.5, Rules Count: 4\n",
      "Support: 0.03, Confidence: 0.6, Rules Count: 4\n",
      "Support: 0.03, Confidence: 0.7, Rules Count: 4\n"
     ]
    }
   ],
   "source": [
    "# Try different support and confidence values\n",
    "support_values = [0.01, 0.02, 0.03]\n",
    "confidence_values = [0.5, 0.6, 0.7]\n",
    "\n",
    "for support in support_values:\n",
    "    for confidence in confidence_values:\n",
    "        rules = association_rules(frequent_itemsets, metric=\"confidence\", min_threshold=confidence,num_itemsets=1)\n",
    "        print(f\"Support: {support}, Confidence: {confidence}, Rules Count: {len(rules)}\")"
   ]
  },
  {
   "cell_type": "code",
   "execution_count": 76,
   "id": "4d072d56-46b5-4e0a-a8fd-ac56dff11155",
   "metadata": {},
   "outputs": [
    {
     "name": "stderr",
     "output_type": "stream",
     "text": [
      "C:\\Users\\Dell\\anaconda3\\Lib\\site-packages\\mlxtend\\frequent_patterns\\fpcommon.py:161: DeprecationWarning: DataFrames with non-bool types result in worse computationalperformance and their support might be discontinued in the future.Please use a DataFrame with bool type\n",
      "  warnings.warn(\n"
     ]
    }
   ],
   "source": [
    "# Set minimum length for itemsets (e.g., at least 2 items)\n",
    "frequent_itemsets = apriori(basket, min_support=0.01, use_colnames=True)\n",
    "\n",
    "# Filter itemsets based on length\n",
    "frequent_itemsets = frequent_itemsets[frequent_itemsets['itemsets'].apply(len) >= 2]"
   ]
  },
  {
   "cell_type": "code",
   "execution_count": 72,
   "id": "04266c39-912a-4e5f-a7af-69b358a9ad65",
   "metadata": {},
   "outputs": [
    {
     "name": "stdout",
     "output_type": "stream",
     "text": [
      "        antecedents       consequents  support  confidence  lift\n",
      "0          (shrimp)         (almonds)      0.5         1.0   2.0\n",
      "1         (almonds)          (shrimp)      0.5         1.0   2.0\n",
      "2  (vegetables mix)         (avocado)      0.5         1.0   2.0\n",
      "3         (avocado)  (vegetables mix)      0.5         1.0   2.0\n"
     ]
    }
   ],
   "source": [
    "print(rules[['antecedents', 'consequents', 'support', 'confidence', 'lift']].head(10))"
   ]
  },
  {
   "cell_type": "code",
   "execution_count": null,
   "id": "03430c4b-4d40-4d9d-b86c-24e868ea53b5",
   "metadata": {},
   "outputs": [],
   "source": [
    "1 . \n",
    "Understanding Lift, Support, and Confidence in Association Rules\n",
    "What is Lift and Its Importance in Association Rules?\n",
    "Lift is a measure used in association rule mining to evaluate the strength of an association between two items. It quantifies how much more likely the occurrence of one item (the consequent) is given the presence of another item (the antecedent) compared to their independent probabilities. Mathematically, lift can be defined as:\n",
    "Lift(X→Y)= Support(Y)/Confidence(X→Y)\n",
    " \n",
    "2.\n",
    "A lift value greater than 1 indicates a positive correlation between the items, suggesting that the presence of item \n",
    "X\n",
    "X increases the likelihood of item \n",
    "Y\n",
    "Y being present. Conversely, a lift value less than 1 suggests a negative correlation or independence between the items34. This metric is crucial in applications like Market Basket Analysis, where businesses seek to understand customer purchasing behavior and optimize product placements3.\n",
    "What are Support and Confidence? How to Calculate Them?\n",
    "Support and confidence are fundamental metrics in association rules:\n",
    "Support measures how frequently an itemset appears in a dataset. It is calculated as:\n",
    "Support(X)=\n",
    "Number of transactions containing (X)/Total number of transactionn\n",
    "For example, if an itemset appears in 30 out of 100 transactions, its support would be \n",
    "0.30\n",
    "0.30 or \n",
    "30\n",
    "%\n",
    "30%25.\n",
    "Confidence evaluates the likelihood that the consequent occurs given the antecedent. It is calculated as:\n",
    "Confidence\n",
    "(X→Y)=Support(X∪Y)Support(X)Confidence(X→Y)= Support(X)Support(X∪Y)\n",
    "​This means if you know that X has occurred, confidence tells you how likely it is that Y will also occur. For instance, if out of 40 transactions containing \n",
    "X, 30 also contain \n",
    "Y, then the confidence for the rule \n",
    "X→Y\n",
    "X→Y would be 0.750.75 or 75%\n",
    "75%24.\n",
    "3.\n",
    "Limitations or Challenges of Association Rules Mining\n",
    "Despite their usefulness, association rule mining has several limitations:\n",
    "High Dimensionality: In large datasets with many items, the number of possible itemsets grows exponentially, making it computationally intensive to analyze all potential associations5.\n",
    "Interpretability: The rules generated may not always be interpretable or actionable. High confidence does not necessarily imply a strong relationship; it could be misleading if based on frequent but unrelated items5.\n",
    "Data Sparsity: In many cases, especially in retail, data can be sparse with many items rarely purchased together. This can lead to low support values for meaningful associations, making it difficult to draw reliable conclusions4.\n",
    "Threshold Sensitivity: The choice of support and confidence thresholds can significantly affect the results. Too high thresholds may overlook interesting rules, while too low thresholds may produce too many insignificant rules"
   ]
  }
 ],
 "metadata": {
  "kernelspec": {
   "display_name": "Python 3 (ipykernel)",
   "language": "python",
   "name": "python3"
  },
  "language_info": {
   "codemirror_mode": {
    "name": "ipython",
    "version": 3
   },
   "file_extension": ".py",
   "mimetype": "text/x-python",
   "name": "python",
   "nbconvert_exporter": "python",
   "pygments_lexer": "ipython3",
   "version": "3.12.4"
  }
 },
 "nbformat": 4,
 "nbformat_minor": 5
}
