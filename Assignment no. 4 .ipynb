{
 "cells": [
  {
   "cell_type": "code",
   "execution_count": 1,
   "id": "2e5232ca-dd21-4082-8c8f-f40d7e0fa9b5",
   "metadata": {},
   "outputs": [
    {
     "name": "stdout",
     "output_type": "stream",
     "text": [
      "Chi-Square Statistic: 4.502164502164502\n",
      "Degrees of Freedom: 2\n",
      "Critical Value at alpha 0.05: 5.991464547107979\n",
      "Decision: Fail to reject the null hypothesis.\n",
      "Conclusion: There is not enough evidence to suggest an association between the categorical variables.\n"
     ]
    }
   ],
   "source": [
    "import numpy as np\n",
    "import scipy.stats as stats\n",
    "\n",
    "# Step 1: State the Hypotheses\n",
    "# Null Hypothesis (H0): There is no association between the categorical variables.\n",
    "# Alternative Hypothesis (H1): There is an association between the categorical variables.\n",
    "\n",
    "# Sample Data: Observed Frequencies\n",
    "observed = np.array([[10, 20, 30],  # Category 1\n",
    "                     [20, 15, 25]]) # Category 2\n",
    "\n",
    "# Step 2: Compute the Chi-Square Statistic\n",
    "# Calculate expected frequencies\n",
    "total = np.sum(observed)\n",
    "row_sums = np.sum(observed, axis=1)\n",
    "col_sums = np.sum(observed, axis=0)\n",
    "expected = np.outer(row_sums, col_sums) / total\n",
    "\n",
    "# Compute the Chi-Square statistic\n",
    "chi_square_statistic = np.sum((observed - expected) ** 2 / expected)\n",
    "\n",
    "print(f\"Chi-Square Statistic: {chi_square_statistic}\")\n",
    "\n",
    "# Step 3: Determine the Critical Value\n",
    "alpha = 0.05\n",
    "\n",
    "# Degrees of Freedom (df) = (number of rows - 1) * (number of columns - 1)\n",
    "df = (observed.shape[0] - 1) * (observed.shape[1] - 1)\n",
    "critical_value = stats.chi2.ppf(1 - alpha, df)\n",
    "\n",
    "print(f\"Degrees of Freedom: {df}\")\n",
    "print(f\"Critical Value at alpha {alpha}: {critical_value}\")\n",
    "\n",
    "# Step 4: Make a Decision\n",
    "if chi_square_statistic > critical_value:\n",
    "    decision = \"Reject the null hypothesis.\"\n",
    "else:\n",
    "    decision = \"Fail to reject the null hypothesis.\"\n",
    "\n",
    "print(f\"Decision: {decision}\")\n",
    "\n",
    "# Conclusion\n",
    "if decision == \"Reject the null hypothesis.\":\n",
    "    conclusion = \"There is significant evidence to suggest an association between the categorical variables.\"\n",
    "else:\n",
    "    conclusion = \"There is not enough evidence to suggest an association between the categorical variables.\"\n",
    "\n",
    "print(f\"Conclusion: {conclusion}\")"
   ]
  },
  {
   "cell_type": "code",
   "execution_count": null,
   "id": "5edea7c0-e28f-4461-80a7-9b8b8a8469d5",
   "metadata": {},
   "outputs": [],
   "source": [
    "import math\n",
    "from scipy import stats\n",
    "\n",
    "# Given data\n",
    "sample_mean = 3050\n",
    "theoretical_mean = 1000 + (5 * 600) # W = $1,000 + $5X for X=600 units\n",
    "std_dev = 5 * 25\n",
    "sample_size = 25\n",
    "alpha = 0.05\n",
    "\n",
    "# Calculate standard error\n",
    "standard_error = std_dev / math.sqrt(sample_size)\n",
    "\n",
    "# Calculate test statistic\n",
    "t_statistic = (sample_mean - theoretical_mean) / standard_error\n",
    "\n",
    "# Determine critical value for one-tailed test\n",
    "critical_value = stats.norm.ppf(1 - alpha)\n",
    "\n",
    "# Decision making\n",
    "if t_statistic < critical_value:\n",
    "    decision = \"Reject the null hypothesis\"\n",
    "else:\n",
    "    decision = \"Fail to reject the null hypothesis\"\n",
    "\n",
    "# Conclusion\n",
    "conclusion = \"There is strong evidence to support the restaurant owners' claim that the weekly operating costs are higher than the model suggests.\"\n",
    "\n",
    "# Output results\n",
    "print(f\"Test Statistic: {t_statistic:.2f}\")\n",
    "print(f\"Critical Value: {critical_value:.2f}\")\n",
    "print(f\"Decision: {decision}\")\n",
    "print(conclusion)"
   ]
  }
 ],
 "metadata": {
  "kernelspec": {
   "display_name": "Python 3 (ipykernel)",
   "language": "python",
   "name": "python3"
  },
  "language_info": {
   "codemirror_mode": {
    "name": "ipython",
    "version": 3
   },
   "file_extension": ".py",
   "mimetype": "text/x-python",
   "name": "python",
   "nbconvert_exporter": "python",
   "pygments_lexer": "ipython3",
   "version": "3.12.4"
  }
 },
 "nbformat": 4,
 "nbformat_minor": 5
}
