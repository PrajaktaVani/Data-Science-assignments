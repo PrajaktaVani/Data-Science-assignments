{
 "cells": [
  {
   "cell_type": "code",
   "execution_count": null,
   "id": "7e5c5f9b-3141-4738-94fe-39eb7b1b7bc2",
   "metadata": {},
   "outputs": [],
   "source": [
    "import numpy as np\n",
    "import scipy.stats as stats\n",
    "\n",
    "# Durability data\n",
    "durability = [1.13, 1.55, 1.43, 0.92, 1.25, 1.36, 1.32, 0.85, 1.07, 1.48, 1.20, 1.33, 1.18, 1.22, 1.29]\n",
    "\n",
    "# Sample size\n",
    "n = len(durability)\n",
    "\n",
    "# Sample mean\n",
    "mean = np.mean(durability)\n",
    "\n",
    "# Sample standard deviation\n",
    "std_dev = np.std(durability, ddof=1)\n",
    "\n",
    "# Critical t-value for 99% confidence level\n",
    "t_value = stats.t.ppf(0.995, n-1)\n",
    "\n",
    "# Standard error\n",
    "se = std_dev / np.sqrt(n)\n",
    "\n",
    "# Margin of error\n",
    "me = t_value * se\n",
    "\n",
    "# Confidence interval\n",
    "ci_lower = mean - me\n",
    "ci_upper = mean + me\n",
    "\n",
    "print(f\"99% Confidence Interval using sample standard deviation: ({ci_lower:.2f}, {ci_upper:.2f})\")"
   ]
  },
  {
   "cell_type": "code",
   "execution_count": null,
   "id": "76f8f245-fce2-4ac0-8b4c-a9c35f88fe58",
   "metadata": {},
   "outputs": [],
   "source": [
    "# Known population standard deviation\n",
    "population_std_dev = 0.2\n",
    "\n",
    "# Standard error using population standard deviation\n",
    "se_population = population_std_dev / np.sqrt(n)\n",
    "\n",
    "# Margin of error using population std dev\n",
    "me_population = t_value * se_population\n",
    "\n",
    "# Confidence interval using known population std dev\n",
    "ci_lower_population = mean - me_population\n",
    "ci_upper_population = mean + me_population\n",
    "\n",
    "print(f\"99% Confidence Interval using known population standard deviation: ({ci_lower_population:.2f}, {ci_upper_population:.2f})\")"
   ]
  }
 ],
 "metadata": {
  "kernelspec": {
   "display_name": "Python 3 (ipykernel)",
   "language": "python",
   "name": "python3"
  },
  "language_info": {
   "codemirror_mode": {
    "name": "ipython",
    "version": 3
   },
   "file_extension": ".py",
   "mimetype": "text/x-python",
   "name": "python",
   "nbconvert_exporter": "python",
   "pygments_lexer": "ipython3",
   "version": "3.12.4"
  }
 },
 "nbformat": 4,
 "nbformat_minor": 5
}
