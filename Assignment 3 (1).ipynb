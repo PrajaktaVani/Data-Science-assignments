{
 "cells": [
  {
   "cell_type": "code",
   "execution_count": null,
   "id": "1287ccc8-fcfd-4701-b656-483f72fb6378",
   "metadata": {},
   "outputs": [],
   "source": [
    "try:\n",
    "        number = int(input(\"Enter a natural number greater than 1: \"))\n",
    "        if number <= 1:\n",
    "            print(\"Please enter a number greater than 1.\")\n",
    "        else:\n",
    "            if is_prime(number):\n",
    "                print(f\"{number} is a prime number.\")\n",
    "            else:\n",
    "                print(f\"{number} is not a prime number.\")\n",
    "    except ValueError:\n",
    "        print(\"Invalid input! Please enter a valid integer.\")\n",
    "\n",
    "if __name__ == \"__main__\":\n",
    "    main()"
   ]
  },
  {
   "cell_type": "code",
   "execution_count": null,
   "id": "da1a0edd-e0b0-4ca3-b06f-14eac568fd23",
   "metadata": {},
   "outputs": [],
   "source": [
    "import random\n",
    "\n",
    "# Generate two random numbers\n",
    "num1 = random.randint(1, 10)\n",
    "num2 = random.randint(1, 10)\n",
    "\n",
    "# Calculate the correct product\n",
    "correct_product = num1 * num2\n",
    "\n",
    "# Ask the user to enter the product\n",
    "user_answer = int(input(f\"What is the product of {num1} and {num2}? \"))\n",
    "\n",
    "# Check if the user's answer is correct\n",
    "if user_answer == correct_product:\n",
    "    print(\"Correct! You got the right answer.\")\n",
    "else:\n",
    "    print(f\"Incorrect. The correct product is {correct_product}.\")\n"
   ]
  },
  {
   "cell_type": "code",
   "execution_count": null,
   "id": "71bbca7c-a48a-4a9d-844e-32da96526559",
   "metadata": {},
   "outputs": [],
   "source": [
    "# Python script to print the squares of all even numbers in the range of 100 to 200\n",
    "\n",
    "# Define the range\n",
    "start = 100\n",
    "end = 200\n",
    "\n",
    "# Choose to calculate squares of even numbers\n",
    "print(\"Squares of even numbers from 100 to 200:\")\n",
    "\n",
    "# Loop through the range and check for even numbers\n",
    "for number in range(start, end + 1):\n",
    "    if number % 2 == 0:  # Check if the number is even\n",
    "        square = number ** 2  # Calculate the square\n",
    "        print(f\"The square of {number} is {square}\")\n"
   ]
  },
  {
   "cell_type": "code",
   "execution_count": null,
   "id": "8e177e08-5c55-4da3-9c87-9e46fa9ee99a",
   "metadata": {},
   "outputs": [],
   "source": []
  }
 ],
 "metadata": {
  "kernelspec": {
   "display_name": "Python 3 (ipykernel)",
   "language": "python",
   "name": "python3"
  },
  "language_info": {
   "codemirror_mode": {
    "name": "ipython",
    "version": 3
   },
   "file_extension": ".py",
   "mimetype": "text/x-python",
   "name": "python",
   "nbconvert_exporter": "python",
   "pygments_lexer": "ipython3",
   "version": "3.12.4"
  }
 },
 "nbformat": 4,
 "nbformat_minor": 5
}
